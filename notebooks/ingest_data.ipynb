{
 "cells": [
  {
   "cell_type": "markdown",
   "metadata": {},
   "source": [
    "# Data Ingestion"
   ]
  },
  {
   "cell_type": "code",
   "execution_count": 34,
   "metadata": {},
   "outputs": [],
   "source": [
    "import sys\n",
    "from pathlib import Path\n",
    "from pprint import pprint\n",
    "\n",
    "sys.path.append(str(Path(\".\").resolve().parent))"
   ]
  },
  {
   "cell_type": "code",
   "execution_count": 23,
   "metadata": {},
   "outputs": [
    {
     "name": "stdout",
     "output_type": "stream",
     "text": [
      "The autoreload extension is already loaded. To reload it, use:\n",
      "  %reload_ext autoreload\n"
     ]
    }
   ],
   "source": [
    "%load_ext autoreload\n",
    "%autoreload 2"
   ]
  },
  {
   "cell_type": "code",
   "execution_count": 44,
   "metadata": {},
   "outputs": [],
   "source": [
    "from backend.preprocessing import get_preprocessor\n",
    "#from backend.rag import vectorstore"
   ]
  },
  {
   "cell_type": "code",
   "execution_count": 25,
   "metadata": {},
   "outputs": [],
   "source": [
    "FILENAMES = [\n",
    "    \"../data/wine-ratings.csv\",\n",
    "    \"../data/Lewis_RAG_2021_one_page.pdf\",\n",
    "    \"../README.md\",\n",
    "    \"https://medium.com/@iamleonie/building-retrieval-augmented-generation-systems-be587f42aedb\",\n",
    "]"
   ]
  },
  {
   "cell_type": "code",
   "execution_count": 39,
   "metadata": {},
   "outputs": [],
   "source": [
    "docs = []\n",
    "for file in FILENAMES:\n",
    "    preprocessor = get_preprocessor(file, chunk_size=1000, chunk_overlap=200)\n",
    "    d = preprocessor.load_split(file)\n",
    "    docs.extend(d)"
   ]
  },
  {
   "cell_type": "code",
   "execution_count": 40,
   "metadata": {},
   "outputs": [
    {
     "data": {
      "text/plain": [
       "33300"
      ]
     },
     "execution_count": 40,
     "metadata": {},
     "output_type": "execute_result"
    }
   ],
   "source": [
    "len(docs)"
   ]
  },
  {
   "cell_type": "code",
   "execution_count": 42,
   "metadata": {},
   "outputs": [
    {
     "name": "stdout",
     "output_type": "stream",
     "text": [
      "('Basic usage of the Azure services via the LangChain library is showcased in '\n",
      " 'the notebook '\n",
      " '[`notebooks/azure_search_rag.ipynb`](./notebooks/azure_search_rag.ipynb).\\n'\n",
      " '\\n'\n",
      " 'Once the infrastructure is setup and all the secrets/keys are known, we '\n",
      " 'can:\\n'\n",
      " '\\n'\n",
      " '- launch the docker container of the backend locally\\n'\n",
      " '- or deploy the docker container of the backend on Azure as a Container '\n",
      " 'App.\\n'\n",
      " '\\n'\n",
      " 'Then, we can use the RAG backend\\n'\n",
      " '\\n'\n",
      " '- via its API\\n'\n",
      " '- or via the GUI or frontend (which uses the backend API).\\n'\n",
      " '\\n'\n",
      " 'The following subsections give details for all those operation modi.\\n'\n",
      " '\\n'\n",
      " '### Running the Backend Locally\\n'\n",
      " '\\n'\n",
      " 'Assuming the Azure resources have been launched successfully and the '\n",
      " 'documents have been ingested, we can build the backend image and run it '\n",
      " 'locally:\\n'\n",
      " '\\n'\n",
      " '```bash\\n'\n",
      " '# Start backend, e.g., locally\\n'\n",
      " 'cd .../azure-rag-app\\n'\n",
      " 'docker run --rm --env-file .env -p 8080:8000 azure-rag-backend    \\n'\n",
      " '# Open browser and go to http://localhost:8080/docs\\n'\n",
      " '```')\n"
     ]
    }
   ],
   "source": [
    "pprint(docs[-10].page_content)"
   ]
  },
  {
   "cell_type": "code",
   "execution_count": null,
   "metadata": {},
   "outputs": [],
   "source": []
  }
 ],
 "metadata": {
  "kernelspec": {
   "display_name": "azure-rag",
   "language": "python",
   "name": "python3"
  },
  "language_info": {
   "codemirror_mode": {
    "name": "ipython",
    "version": 3
   },
   "file_extension": ".py",
   "mimetype": "text/x-python",
   "name": "python",
   "nbconvert_exporter": "python",
   "pygments_lexer": "ipython3",
   "version": "3.10.16"
  }
 },
 "nbformat": 4,
 "nbformat_minor": 2
}
