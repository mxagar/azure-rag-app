{
 "cells": [
  {
   "cell_type": "markdown",
   "metadata": {},
   "source": [
    "# Tests of the Backend API"
   ]
  },
  {
   "cell_type": "markdown",
   "metadata": {},
   "source": [
    "First, we need to stat the API:\n",
    "\n",
    "```bash\n",
    "# Launch FastAPI app locally\n",
    "cd .../azure-rag-app\n",
    "uvicorn --env-file .env --host 0.0.0.0 --port 8080 backend.api:app\n",
    "```\n",
    "\n",
    "Then, the server should be accessible; the swagger is in [http://127.0.0.1:8080/docs](http://127.0.0.1:8080/docs)\n",
    "\n",
    "We can try the API out in the documentation swagger UI, too:\n",
    "\n",
    "- Go to `/ask` and click on `Try it out`\n",
    "- Enter a question and click on 'Execute', e.g.: *\"What is the best Bourbon Barrel wine?\"*\n",
    "- Check response in Web UI"
   ]
  },
  {
   "cell_type": "code",
   "execution_count": 5,
   "metadata": {},
   "outputs": [
    {
     "name": "stdout",
     "output_type": "stream",
     "text": [
      "Based on the provided context, the 1000 Stories Bourbon Barrel Aged Gold Rush Red 2017 has a rating of 90.0, indicating it is considered a high-quality wine. However, the term \"best\" can be subjective and may vary based on personal preference.\n"
     ]
    }
   ],
   "source": [
    "import requests\n",
    "\n",
    "# Define the URL and payload\n",
    "url = \"http://127.0.0.1:8080/ask\"\n",
    "payload = {\"query\": \"Which is the best wine?\"}\n",
    "headers = {\n",
    "    \"Content-Type\": \"application/json\"\n",
    "}\n",
    "\n",
    "# Make the POST request\n",
    "response = requests.post(\n",
    "    url,\n",
    "    json=payload,\n",
    "    headers=headers,\n",
    "    proxies={\"http\": None, \"https\": None}  # Use this only if you have any proxies...\n",
    ")\n",
    "\n",
    "if response.status_code == 200:\n",
    "    print(response.json().get(\"response\"))\n",
    "else:\n",
    "    print(\"Error:\", response.status_code)"
   ]
  },
  {
   "cell_type": "code",
   "execution_count": null,
   "metadata": {},
   "outputs": [],
   "source": []
  }
 ],
 "metadata": {
  "kernelspec": {
   "display_name": "azure-rag",
   "language": "python",
   "name": "python3"
  },
  "language_info": {
   "codemirror_mode": {
    "name": "ipython",
    "version": 3
   },
   "file_extension": ".py",
   "mimetype": "text/x-python",
   "name": "python",
   "nbconvert_exporter": "python",
   "pygments_lexer": "ipython3",
   "version": "3.10.16"
  }
 },
 "nbformat": 4,
 "nbformat_minor": 2
}
