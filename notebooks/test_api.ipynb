{
 "cells": [
  {
   "cell_type": "markdown",
   "metadata": {},
   "source": [
    "# Tests of the Backend API"
   ]
  },
  {
   "cell_type": "markdown",
   "metadata": {},
   "source": [
    "First, we need to stat the API:\n",
    "\n",
    "```bash\n",
    "# Launch FastAPI app locally\n",
    "cd .../azure-rag-app\n",
    "uvicorn --env-file .env --host 0.0.0.0 --port 8080 backend.api:app\n",
    "```\n",
    "\n",
    "Then, the server should be accessible; the swagger is in [http://127.0.0.1:8080/docs](http://127.0.0.1:8080/docs)\n",
    "\n",
    "We can try the API out in the documentation swagger UI, too:\n",
    "\n",
    "- Go to `/ask` and click on `Try it out`\n",
    "- Enter a question and click on 'Execute', e.g.: *\"What is the best Bourbon Barrel wine?\"*\n",
    "- Check response in Web UI"
   ]
  },
  {
   "cell_type": "code",
   "execution_count": 14,
   "metadata": {},
   "outputs": [
    {
     "name": "stdout",
     "output_type": "stream",
     "text": [
      "The best wine is the 1000 Stories Bourbon Barrel Aged Zinfandel 2016, with a rating of 91.0.\n"
     ]
    }
   ],
   "source": [
    "import requests\n",
    "import os\n",
    "from dotenv import load_dotenv\n",
    "\n",
    "#load_dotenv(dotenv_path=\"../.env\", override=True)\n",
    "load_dotenv(dotenv_path=\"../.env_terraform\", override=True)\n",
    "\n",
    "# Define the URL and payload\n",
    "#url = \"http://127.0.0.1:8080/ask\"\n",
    "url = \"https://backend-container-demo-988d3c.lemonbeach-52b921c6.westeurope.azurecontainerapps.io/ask\"\n",
    "\n",
    "payload = {\"query\": \"Which is the best wine?\"}\n",
    "headers = {\n",
    "    \"Content-Type\": \"application/json\",\n",
    "    \"Authorization\": f\"Bearer {os.getenv('RAG_API_KEY')}\",\n",
    "}\n",
    "\n",
    "# Make the POST request\n",
    "response = requests.post(\n",
    "    url,\n",
    "    json=payload,\n",
    "    headers=headers,\n",
    "    #proxies={\"http\": None, \"https\": None}  # LOCAL - No proxies...\n",
    "    proxies={\"http\": os.getenv(\"HTTP_PROXY\", None), \"https\": os.getenv(\"HTTPS_PROXY\", None)}  # AZURE - Use this only if you have any proxies...\n",
    ")\n",
    "\n",
    "if response.status_code == 200:\n",
    "    print(response.json().get(\"response\"))\n",
    "else:\n",
    "    print(\"Error:\", response.status_code)"
   ]
  },
  {
   "cell_type": "markdown",
   "metadata": {},
   "source": [
    "### Secure API Key for Basic Authentication"
   ]
  },
  {
   "cell_type": "code",
   "execution_count": 20,
   "metadata": {},
   "outputs": [],
   "source": [
    "import secrets\n",
    "\n",
    "# Generate a secure API key\n",
    "api_key = secrets.token_urlsafe(32)  # 32 bytes (default length)\n",
    "# We save the resulting API key in .env as RAG_API_KEY"
   ]
  }
 ],
 "metadata": {
  "kernelspec": {
   "display_name": "azure-rag",
   "language": "python",
   "name": "python3"
  },
  "language_info": {
   "codemirror_mode": {
    "name": "ipython",
    "version": 3
   },
   "file_extension": ".py",
   "mimetype": "text/x-python",
   "name": "python",
   "nbconvert_exporter": "python",
   "pygments_lexer": "ipython3",
   "version": "3.10.16"
  }
 },
 "nbformat": 4,
 "nbformat_minor": 2
}
